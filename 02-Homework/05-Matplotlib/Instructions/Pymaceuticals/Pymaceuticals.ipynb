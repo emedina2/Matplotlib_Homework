{
 "cells": [
  {
   "cell_type": "code",
   "execution_count": null,
   "metadata": {},
   "outputs": [],
   "source": [
    "# Dependencies and Setup\n",
    "import matplotlib.pyplot as plt\n",
    "import pandas as pd\n",
    "import scipy.stats as st"
   ]
  },
  {
   "cell_type": "code",
   "execution_count": null,
   "metadata": {},
   "outputs": [],
   "source": [
    "# Study data files\n",
    "mouse_metadata_path = \"data/Mouse_metadata.csv\"\n",
    "study_results_path = \"data/Study_results.csv\""
   ]
  },
  {
   "cell_type": "code",
   "execution_count": null,
   "metadata": {},
   "outputs": [],
   "source": [
    "# Read the mouse data and the study results\n",
    "mouse_metadata = pd.read_csv(mouse_metadata_path)\n",
    "study_results = pd.read_csv(study_results_path)"
   ]
  },
  {
   "cell_type": "code",
   "execution_count": null,
   "metadata": {},
   "outputs": [],
   "source": [
    "# Combine the data into a single dataset\n",
    "# Display the data table for preview\n",
    "lab_rats = pd.merge(mouse_metadata, study_results, on=\"Mouse ID\",suffixes = (\"Metadata\", \"Study\"))\n",
    "lab_rats"
   ]
  },
  {
   "cell_type": "code",
   "execution_count": null,
   "metadata": {},
   "outputs": [],
   "source": [
    "# Checking the number of mice.\n",
    "len(lab_rats['Mouse ID'].value_counts())"
   ]
  },
  {
   "cell_type": "code",
   "execution_count": null,
   "metadata": {},
   "outputs": [],
   "source": [
    "# Getting the duplicate mice by ID number that shows up for Mouse ID and Timepoint. \n",
    "#find duplicate mouse ID values\n",
    "dupes = lab_rats.drop_duplicates(subset=['Mouse ID','Timepoint'], keep = False)\n",
    "dupes"
   ]
  },
  {
   "cell_type": "code",
   "execution_count": null,
   "metadata": {},
   "outputs": [],
   "source": [
    "# Optional: Get all the data for the duplicate mouse ID. "
   ]
  },
  {
   "cell_type": "code",
   "execution_count": null,
   "metadata": {},
   "outputs": [],
   "source": [
    "# Create a clean DataFrame by dropping the duplicate mouse by its ID.\n",
    "mouse_IDs = dupes['Mouse ID'].unique()"
   ]
  },
  {
   "cell_type": "code",
   "execution_count": null,
   "metadata": {},
   "outputs": [],
   "source": [
    "# Checking the number of mice in the clean DataFrame.\n",
    "len(mouse_IDs)"
   ]
  },
  {
   "cell_type": "code",
   "execution_count": null,
   "metadata": {},
   "outputs": [],
   "source": [
    "# Generate a summary statistics table of mean, median, variance, standard deviation, \n",
    "#and SEM of the tumor volume for each regimen\n",
    "\n",
    "# Use groupby and summary statistical methods to calculate the following properties \n",
    "#of each drug regimen: \n",
    "# mean, median, variance, standard deviation, and SEM of the tumor volume. \n",
    "# Assemble the resulting series into a single summary dataframe.\n",
    "tumor_data = lab_rats.groupby('Drug Regimen')['Tumor Volume (mm3)']\n",
    "tumor_mean = tumor_data.mean()\n",
    "tumor_median = tumor_data.median()\n",
    "tumor_variance = tumor_data.var()\n",
    "tumor_sd = tumor_data.std()\n",
    "tumor_SEM = tumor_data.sem()\n",
    "tumor_stats = pd.DataFrame({\"Mean\" : tumor_mean, \"Median\" : tumor_median,\n",
    "                            \"Variance\" :tumor_variance,\"Standard Deviation\":tumor_sd,\n",
    "                            \"SEM\" :tumor_SEM})\n",
    "tumor_stats"
   ]
  },
  {
   "cell_type": "code",
   "execution_count": null,
   "metadata": {},
   "outputs": [],
   "source": [
    "# Using the aggregation method, produce the same summary statistics in a single line\n",
    "aggregation = tumor_data.aggregate(['mean', 'median','var','std', 'sem'])\n",
    "aggregation"
   ]
  },
  {
   "cell_type": "code",
   "execution_count": null,
   "metadata": {},
   "outputs": [],
   "source": [
    "# Generate a bar plot showing the total number of measurements taken on \n",
    "#each drug regimen using pandas.\n"
   ]
  },
  {
   "cell_type": "code",
   "execution_count": null,
   "metadata": {},
   "outputs": [],
   "source": [
    "# Generate a bar plot showing the total number of measurements taken \n",
    "#on each drug regimen using pyplot."
   ]
  },
  {
   "cell_type": "code",
   "execution_count": null,
   "metadata": {
    "scrolled": false
   },
   "outputs": [],
   "source": [
    "# Generate a pie plot showing the distribution of female versus male mice using pandas\n",
    "f_v_m = dupes.drop_duplicates(subset=['Mouse ID'], keep = \"last\").groupby('Sex').count()\n",
    "f_v_m.plot(kind=\"pie\", y ='Mouse ID', autopct='%1.1f%%')\n",
    "plt.show()\n"
   ]
  },
  {
   "cell_type": "code",
   "execution_count": null,
   "metadata": {},
   "outputs": [],
   "source": [
    "# Generate a pie plot showing the distribution of female versus male mice using pyplot\n",
    "plt.pie(f_v_m['Mouse ID'], labels = (\"Female\", \"Male\"),colors = ('Pink', 'Blue'), autopct='%1.1f%%')\n",
    "plt.show()"
   ]
  },
  {
   "cell_type": "code",
   "execution_count": null,
   "metadata": {
    "scrolled": true
   },
   "outputs": [],
   "source": [
    "# Calculate the final tumor volume of each mouse across four of the treatment regimens:  \n",
    "# Capomulin, Ramicane, Infubinol, and Ceftamin\n",
    "\n",
    "# Start by getting the last (greatest) timepoint for each mouse\n",
    "last_timepoint = lab_rats.sort_values(by=['Timepoint'])\n",
    "last_timepoint = last_timepoint.drop_duplicates(subset='Mouse ID', keep=\"last\")\n",
    "\n",
    "# Merge this group df with the original dataframe to get the tumor volume at the last timepoint\n",
    "last_timepoint"
   ]
  },
  {
   "cell_type": "code",
   "execution_count": null,
   "metadata": {},
   "outputs": [],
   "source": [
    "# Put treatments into a list for for loop (and later for plot labels)\n",
    "treatments = last_timepoint['Drug Regimen'].unique()\n",
    "\n",
    "# Create empty list to fill with tumor vol data (for plotting)\n",
    "tumor_data = []"
   ]
  },
  {
   "cell_type": "code",
   "execution_count": null,
   "metadata": {},
   "outputs": [],
   "source": [
    "# Locate the rows which contain mice on each drug and get the tumor volumes\n",
    "for treatment in treatments:\n",
    "    tumor_volume = last_timepoint.loc[treatment, 'Tumor Volume (mm3)']\n",
    "    tumor_data.append(tumor_volume)\n",
    "tumor_data"
   ]
  },
  {
   "cell_type": "code",
   "execution_count": null,
   "metadata": {},
   "outputs": [],
   "source": [
    "# Calculate the IQR and quantitatively determine if there are any potential outliers. \n",
    "# add subset     \n",
    "box_data = last_timepoint.groupby('Drug Regimen')\n",
    "box_plot = box_data['Tumor Volume (mm3)'].describe()\n",
    "box_iqr = box_plot['75%'] - box_plot['25%']\n",
    "box_plot['IQR'] = box_iqr\n",
    "box_plot['Upper Bound'] = box_plot['25%'] - (1.5*box_plot['IQR'])\n",
    "box_plot['Lower Bound'] = box_plot['75%'] + (1.5*box_plot['IQR'])\n",
    "box_plot"
   ]
  },
  {
   "cell_type": "code",
   "execution_count": null,
   "metadata": {},
   "outputs": [],
   "source": [
    "print(last_timepoint.dtypes)"
   ]
  },
  {
   "cell_type": "code",
   "execution_count": null,
   "metadata": {
    "scrolled": false
   },
   "outputs": [],
   "source": [
    "# Determine outliers using upper and lower bounds\n",
    "outliers=[]\n",
    "\n",
    "for treatment in treatments: \n",
    "    for mouse in last_timepoint:\n",
    "        drug = last_timepoint['Drug Regimen'].astype(str)\n",
    "        upperbound = box_plot.loc[treatment,'Upper Bound']\n",
    "        lowerbound = box_plot.loc[treatment,'Lower Bound']  \n",
    "        print(drug)\n",
    "        print(treatment)\n",
    "    break\n",
    "        #if drug == treatment:\n",
    "            #last_timepoint['Upper Bound'] = upperbound\n",
    "            #last_timepoint['Lower Bound'] = lowerbound\n",
    "last_timepoint\n",
    "      \n",
    "        \n",
    "   \n",
    "    \n",
    "  \n"
   ]
  },
  {
   "cell_type": "code",
   "execution_count": null,
   "metadata": {},
   "outputs": [],
   "source": [
    "test = last_timepoint[last_timepoint['Tumor Volume (mm3)'].between(box_plot.loc['Ramicane','Upper Bound'], box_plot.loc['Ramicane','Lower Bound']) == False]\n",
    "test\n"
   ]
  },
  {
   "cell_type": "code",
   "execution_count": null,
   "metadata": {},
   "outputs": [],
   "source": [
    "# Generate a box plot of the final tumor volume of each mouse across four regimens of interest\n"
   ]
  },
  {
   "cell_type": "code",
   "execution_count": null,
   "metadata": {},
   "outputs": [],
   "source": [
    "# Generate a line plot of tumor volume vs. time point for a mouse treated with Capomulin\n"
   ]
  },
  {
   "cell_type": "code",
   "execution_count": null,
   "metadata": {},
   "outputs": [],
   "source": [
    "# Generate a scatter plot of average tumor volume vs. mouse weight for the Capomulin regimen\n"
   ]
  },
  {
   "cell_type": "code",
   "execution_count": null,
   "metadata": {},
   "outputs": [],
   "source": [
    "# Calculate the correlation coefficient and linear regression model \n",
    "# for mouse weight and average tumor volume for the Capomulin regimen\n"
   ]
  }
 ],
 "metadata": {
  "kernelspec": {
   "display_name": "Python 3",
   "language": "python",
   "name": "python3"
  },
  "language_info": {
   "codemirror_mode": {
    "name": "ipython",
    "version": 3
   },
   "file_extension": ".py",
   "mimetype": "text/x-python",
   "name": "python",
   "nbconvert_exporter": "python",
   "pygments_lexer": "ipython3",
   "version": "3.8.5"
  }
 },
 "nbformat": 4,
 "nbformat_minor": 4
}
