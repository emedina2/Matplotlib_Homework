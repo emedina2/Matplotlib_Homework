{
 "cells": [
  {
   "cell_type": "code",
   "execution_count": null,
   "metadata": {},
   "outputs": [],
   "source": [
    "# Dependencies and Setup\n",
    "import matplotlib.pyplot as plt\n",
    "import pandas as pd\n",
    "import scipy.stats as st"
   ]
  },
  {
   "cell_type": "code",
   "execution_count": null,
   "metadata": {},
   "outputs": [],
   "source": [
    "#Observations\n",
    "print(\"Heavier mice seem to have larger tumors, but the mouse weight could also be due to the larger tumors.\")\n",
    "print('For the mouse randomly selected on the Capomulin treatment, it seems the treatment did work, as the tumor size was reduce as time went on.')\n",
    "print('The Ketapril treatment, the mouse tumors seemed to be much larger than all the other treatments, which could mean the treatment did not work or caused adverse effects.')\n",
    "print('Overall, the Ramicane treatment seemed to work best as the tumor volumes were smallest out of all of the regiments tested on the mice.')"
   ]
  },
  {
   "cell_type": "code",
   "execution_count": null,
   "metadata": {},
   "outputs": [],
   "source": [
    "# Study data files\n",
    "mouse_metadata_path = \"data/Mouse_metadata.csv\"\n",
    "study_results_path = \"data/Study_results.csv\""
   ]
  },
  {
   "cell_type": "code",
   "execution_count": null,
   "metadata": {},
   "outputs": [],
   "source": [
    "# Read the mouse data and the study results\n",
    "mouse_metadata = pd.read_csv(mouse_metadata_path)\n",
    "study_results = pd.read_csv(study_results_path)"
   ]
  },
  {
   "cell_type": "code",
   "execution_count": null,
   "metadata": {},
   "outputs": [],
   "source": [
    "# Combine the data into a single dataset\n",
    "# Display the data table for preview\n",
    "lab_rats = pd.merge(mouse_metadata, study_results, on=\"Mouse ID\",suffixes = (\"Metadata\", \"Study\"))\n",
    "lab_rats"
   ]
  },
  {
   "cell_type": "code",
   "execution_count": null,
   "metadata": {},
   "outputs": [],
   "source": [
    "# Checking the number of mice.\n",
    "len(lab_rats['Mouse ID'].value_counts())"
   ]
  },
  {
   "cell_type": "code",
   "execution_count": null,
   "metadata": {},
   "outputs": [],
   "source": [
    "# Getting the duplicate mice by ID number that shows up for Mouse ID and Timepoint. \n",
    "#find duplicate mouse ID values\n",
    "dupes = lab_rats.drop_duplicates(subset=['Mouse ID','Timepoint'], keep = False)\n",
    "dupes"
   ]
  },
  {
   "cell_type": "code",
   "execution_count": null,
   "metadata": {},
   "outputs": [],
   "source": [
    "# Optional: Get all the data for the duplicate mouse ID. "
   ]
  },
  {
   "cell_type": "code",
   "execution_count": null,
   "metadata": {},
   "outputs": [],
   "source": [
    "# Create a clean DataFrame by dropping the duplicate mouse by its ID.\n",
    "mouse_IDs = dupes['Mouse ID'].unique()"
   ]
  },
  {
   "cell_type": "code",
   "execution_count": null,
   "metadata": {},
   "outputs": [],
   "source": [
    "# Checking the number of mice in the clean DataFrame.\n",
    "len(mouse_IDs)"
   ]
  },
  {
   "cell_type": "code",
   "execution_count": null,
   "metadata": {},
   "outputs": [],
   "source": [
    "# Generate a summary statistics table of mean, median, variance, standard deviation, \n",
    "#and SEM of the tumor volume for each regimen\n",
    "# Use groupby and summary statistical methods to calculate the following properties \n",
    "#of each drug regimen: \n",
    "# mean, median, variance, standard deviation, and SEM of the tumor volume. \n",
    "# Assemble the resulting series into a single summary dataframe.\n",
    "tumor_data = lab_rats.groupby('Drug Regimen')['Tumor Volume (mm3)']\n",
    "tumor_mean = tumor_data.mean()\n",
    "tumor_median = tumor_data.median()\n",
    "tumor_variance = tumor_data.var()\n",
    "tumor_sd = tumor_data.std()\n",
    "tumor_SEM = tumor_data.sem()\n",
    "tumor_stats = pd.DataFrame({\"Mean\" : tumor_mean, \"Median\" : tumor_median,\n",
    "                            \"Variance\" :tumor_variance,\"Standard Deviation\":tumor_sd,\n",
    "                            \"SEM\" :tumor_SEM})\n",
    "tumor_stats"
   ]
  },
  {
   "cell_type": "code",
   "execution_count": null,
   "metadata": {},
   "outputs": [],
   "source": [
    "# Using the aggregation method, produce the same summary statistics in a single line\n",
    "aggregation = tumor_data.aggregate(['mean', 'median','var','std', 'sem'])\n",
    "aggregation"
   ]
  },
  {
   "cell_type": "code",
   "execution_count": null,
   "metadata": {},
   "outputs": [],
   "source": [
    "# Generate a bar plot showing the total number of measurements taken on \n",
    "#each drug regimen using pandas.\n",
    "measurements = dupes.drop_duplicates(subset=['Mouse ID'], keep = \"last\")\n",
    "measurement_data = measurements.groupby('Drug Regimen')\n",
    "measurement_data = measurement_data['Mouse ID'].count()\n",
    "measurement_data.plot(kind=\"bar\", title = \"Mice per Drug Regimen\")\n",
    "plt.show()"
   ]
  },
  {
   "cell_type": "code",
   "execution_count": null,
   "metadata": {},
   "outputs": [],
   "source": [
    "# Generate a bar plot showing the total number of measurements taken \n",
    "#on each drug regimen using pyplot.\n",
    "drugs = measurements['Drug Regimen'].unique()\n",
    "\n",
    "plt.bar(drugs, measurement_data,color = 'pink', width = .3)\n",
    "plt.xticks(rotation=45)\n",
    "plt.title(\"Mice per Drug Regimen\")\n",
    "plt.show()\n"
   ]
  },
  {
   "cell_type": "code",
   "execution_count": null,
   "metadata": {
    "scrolled": false
   },
   "outputs": [],
   "source": [
    "# Generate a pie plot showing the distribution of female versus male mice using pandas\n",
    "f_v_m = dupes.drop_duplicates(subset=['Mouse ID'], keep = \"last\").groupby('Sex')\n",
    "f_v_m = f_v_m['Mouse ID'].count()\n",
    "f_v_m.plot(kind=\"pie\",subplots = True, autopct='%1.1f%%')\n",
    "plt.show()\n"
   ]
  },
  {
   "cell_type": "code",
   "execution_count": null,
   "metadata": {},
   "outputs": [],
   "source": [
    "# Generate a pie plot showing the distribution of female versus male mice using pyplot\n",
    "plt.pie(f_v_m, labels = (\"Female\", \"Male\"),colors = ('Pink', 'Blue'), autopct='%1.1f%%')\n",
    "plt.show()\n"
   ]
  },
  {
   "cell_type": "code",
   "execution_count": null,
   "metadata": {
    "scrolled": true
   },
   "outputs": [],
   "source": [
    "# Calculate the final tumor volume of each mouse across four of the treatment regimens:  \n",
    "# Capomulin, Ramicane, Infubinol, and Ceftamin\n",
    "\n",
    "# Start by getting the last (greatest) timepoint for each mouse\n",
    "last_timepoint = lab_rats.sort_values(by=['Timepoint'])\n",
    "last_timepoint = last_timepoint.drop_duplicates(subset='Mouse ID', keep=\"last\")\n",
    "\n",
    "# Merge this group df with the original dataframe to get the tumor volume at the last timepoint\n",
    "last_timepoint"
   ]
  },
  {
   "cell_type": "code",
   "execution_count": null,
   "metadata": {},
   "outputs": [],
   "source": [
    "# Put treatments into a list for for loop (and later for plot labels)\n",
    "#treatments = last_timepoint['Drug Regimen'].unique()\n",
    "treatments = (\"Capomulin\", \"Ramicane\", \"Infubinol\", \"Ceftamin\")\n",
    "# Create empty list to fill with tumor vol data (for plotting)\n"
   ]
  },
  {
   "cell_type": "code",
   "execution_count": null,
   "metadata": {},
   "outputs": [],
   "source": [
    "# Locate the rows which contain mice on each drug and get the tumor volumes\n",
    "tumor_data = {'Mouse ID': last_timepoint['Mouse ID'], 'Drug Regimen': last_timepoint['Drug Regimen'],\\\n",
    "              'Tumor Volume (mm3)' : last_timepoint['Tumor Volume (mm3)']}\n",
    "tumor_df = pd.DataFrame(tumor_data)\n",
    "tumor_df"
   ]
  },
  {
   "cell_type": "code",
   "execution_count": null,
   "metadata": {},
   "outputs": [],
   "source": [
    "# Calculate the IQR and quantitatively determine if there are any potential outliers. \n",
    "# add subset     \n",
    "box_data = last_timepoint.groupby('Drug Regimen')\n",
    "box_plot = box_data['Tumor Volume (mm3)'].describe()\n",
    "box_iqr = box_plot['75%'] - box_plot['25%']\n",
    "box_plot['IQR'] = box_iqr\n",
    "box_plot['Lower Bound'] = box_plot['25%'] - (1.5*box_plot['IQR'])\n",
    "box_plot['Upper Bound'] = box_plot['75%'] + (1.5*box_plot['IQR'])\n",
    "box_plot"
   ]
  },
  {
   "cell_type": "code",
   "execution_count": null,
   "metadata": {
    "scrolled": true
   },
   "outputs": [],
   "source": [
    "# Determine outliers using upper and lower bounds\n",
    "outliers=[]\n",
    "\n",
    "for treatment in treatments:\n",
    "    upperbound = box_plot.loc[treatment,'Upper Bound']\n",
    "    lowerbound = box_plot.loc[treatment,'Lower Bound']\n",
    "    for drug in last_timepoint.itertuples():\n",
    "        if drug[2] == treatment:\n",
    "            #print(f'The drug {drug[2]} matches {treatment}.')\n",
    "            if drug[7] > upperbound or drug[7] < lowerbound:\n",
    "                #print(f' The tumor {drug[7]} is larger than {upperbound} or lower than {lowerbound}.')\n",
    "                outliers.append(drug[1])\n",
    "                \n",
    "                \n",
    "print(f' The outliers are mouse {outliers}.')"
   ]
  },
  {
   "cell_type": "code",
   "execution_count": null,
   "metadata": {
    "scrolled": true
   },
   "outputs": [],
   "source": [
    "# Generate a box plot of the final tumor volume of each mouse across four regimens of interest\n",
    "regimens = treatments\n",
    "regimen_data = tumor_df[tumor_df['Drug Regimen'].isin(['Ketapril', 'Propriva', 'Zoniferol', 'Infubinol'])]\n",
    "regimen_data\n",
    "\n",
    "regimen_data.groupby('Drug Regimen').boxplot(subplots=False).set_xticklabels(regimens)\n",
    "plt.ylabel('Final Tumor size in mm3')\n",
    "plt.show()\n"
   ]
  },
  {
   "cell_type": "code",
   "execution_count": null,
   "metadata": {
    "scrolled": true
   },
   "outputs": [],
   "source": [
    "# Generate a line plot of tumor volume vs. time point for a mouse treated with Capomulin\n",
    "mouse = 'u364'\n",
    "mouse_data = lab_rats[lab_rats['Mouse ID'].isin([mouse])]\n",
    "plt.plot(mouse_data['Timepoint'], mouse_data['Tumor Volume (mm3)'])\n",
    "plt.xlabel('Timepoint')\n",
    "plt.ylabel('Tumor Volume (mm3)')\n",
    "plt.title('Tumor volume vs. Time point for a mouse treated with Capomulin')\n",
    "plt.show()"
   ]
  },
  {
   "cell_type": "code",
   "execution_count": null,
   "metadata": {},
   "outputs": [],
   "source": [
    "# Generate a scatter plot of average tumor volume vs. mouse weight for the Capomulin regimen\n",
    "Capomulin = last_timepoint[last_timepoint['Drug Regimen'].isin(['Capomulin'])]\n",
    "plt.scatter(Capomulin['Weight (g)'], Capomulin['Tumor Volume (mm3)'],marker=\"+\", facecolors = \"green\")\n",
    "plt.xlabel('Weight (g)')\n",
    "plt.ylabel('Tumor Volume (mm3)')\n",
    "plt.title('Tumor volume vs. Average Weight for a mouse treated with Capomulin')\n",
    "plt.show()"
   ]
  },
  {
   "cell_type": "code",
   "execution_count": null,
   "metadata": {},
   "outputs": [],
   "source": [
    "# Calculate the correlation coefficient and linear regression model \n",
    "# for mouse weight and average tumor volume for the Capomulin regimen\n",
    "weight = Capomulin['Weight (g)']\n",
    "tumor_vol = Capomulin['Tumor Volume (mm3)']\n",
    "r = weight.corr(tumor_vol, method = 'pearson')\n",
    "(slope, intercept, rvalue, pvalue, stderr) = st.linregress(weight, tumor_vol)\n",
    "regress_values = weight * slope + intercept\n",
    "line_eq = \"y = \" + str(round(slope,2)) + \"x + \" + str(round(intercept,2))\n",
    "plt.scatter(weight,tumor_vol)\n",
    "plt.plot(weight,regress_values,\"r-\")\n",
    "plt.annotate(line_eq,(21,25),fontsize=15,color=\"red\")\n",
    "plt.ylabel('Tumor Volume (mm3)')\n",
    "plt.xlabel('Weight (g)')\n",
    "plt.show()\n",
    "print(f'Correlation coefficient is {round(r,2)}.')"
   ]
  }
 ],
 "metadata": {
  "kernelspec": {
   "display_name": "Python 3",
   "language": "python",
   "name": "python3"
  },
  "language_info": {
   "codemirror_mode": {
    "name": "ipython",
    "version": 3
   },
   "file_extension": ".py",
   "mimetype": "text/x-python",
   "name": "python",
   "nbconvert_exporter": "python",
   "pygments_lexer": "ipython3",
   "version": "3.8.5"
  }
 },
 "nbformat": 4,
 "nbformat_minor": 4
}
